{
 "cells": [
  {
   "cell_type": "code",
   "execution_count": 1,
   "id": "d433988a-567b-44f7-8c7f-581b9c234aab",
   "metadata": {},
   "outputs": [],
   "source": [
    "#Importing packages\n",
    "import random \n",
    "import numpy as np\n",
    "import pandas as pd \n",
    "import matplotlib as plt"
   ]
  },
  {
   "cell_type": "code",
   "execution_count": 2,
   "id": "c66fc434-dc7c-4ec3-8c09-0049306d9bd3",
   "metadata": {},
   "outputs": [],
   "source": [
    "#Patient Record list to store the dictionaries of patient information\n",
    "patient_record = []"
   ]
  },
  {
   "cell_type": "code",
   "execution_count": 3,
   "id": "12064140-f41c-4ec7-b8f5-9d4bbd297778",
   "metadata": {},
   "outputs": [],
   "source": [
    "#Function for Enter Patient Information\n",
    "def enter_patient_info():\n",
    "    print(\"Enter Patient Information:\")\n",
    "    initial_service_date = input(\"Date of Service (MM-DD-YYYY): \")\n",
    "    patient_id = input(\"Patient ID#: \")\n",
    "    name = input(\"Name: \").upper()\n",
    "    sex = input(\"Sex (M/F): \").upper()\n",
    "    age = input(\"Age: \")\n",
    "    race = input(\"Race/Ethnicity: \").upper()\n",
    "    prev_opioid_type = input(\"Previous Opioid Use Type: \").upper()\n",
    "    initial_methadone_dose = int(input(\"Methadone Dose (mg): \"))\n",
    "    \n",
    "    #Adding inputs to dictionary\n",
    "    patient_info = {\n",
    "        \"Patient ID\": patient_id,\n",
    "        \"Name\": name,\n",
    "        \"Sex\": sex,\n",
    "        \"Age\": age,\n",
    "        \"Race/Ethnicity\": race,\n",
    "        \"Previous Opioid Use Type\": prev_opioid_type,\n",
    "        \"Date of Service\": initial_service_date,\n",
    "        \"Methadone Dose (mg)\": initial_methadone_dose,\n",
    "    }\n",
    "    patient_record.append(patient_info)\n",
    "    print(\"Patient {} information is added/updated successfully.\".format(name))  #need to put before return in order to print\n",
    "    return\n",
    "    "
   ]
  },
  {
   "cell_type": "code",
   "execution_count": 15,
   "id": "98c04c37-c9fb-4319-89d0-7ba91971dde7",
   "metadata": {},
   "outputs": [],
   "source": [
    "#Function to append patient's methadone dose and date of service\n",
    "def update_methadone_dose():\n",
    "\n",
    "    #asks user for input \n",
    "    patient_id = input(\"Enter Patient ID: \")\n",
    "    new_date = input(\"Enter Date of Service (MM-DD-YYYY): \")\n",
    "    new_dose = input(\"Enter Methadone Dose (mg): \")\n",
    "    \n",
    "    #makes sure dose is written as an integer\n",
    "    try:\n",
    "        new_dose = int(new_dose)\n",
    "    except ValueError:\n",
    "        print(\"Invalid dose entered. Please enter a numeric value.\")\n",
    "        return\n",
    "    \n",
    "    #finds patient record\n",
    "    patient_found = False\n",
    "    for record in patient_record:\n",
    "        if record[\"Patient ID\"] == patient_id:\n",
    "            patient_found = True\n",
    "            \n",
    "            #'date of service' and 'methadone dose' are lists\n",
    "            if not isinstance(record[\"Date of Service\"], list):\n",
    "                record[\"Date of Service\"] = [record[\"Date of Service\"]]\n",
    "            if not isinstance(record[\"Methadone Dose (mg)\"], list):\n",
    "                record[\"Methadone Dose (mg)\"] = [record[\"Methadone Dose (mg)\"]]\n",
    "            \n",
    "            #to append new date and dose\n",
    "            record[\"Date of Service\"].append(new_date)\n",
    "            record[\"Methadone Dose (mg)\"].append(new_dose)\n",
    "            print(f\"Patient ID {patient_id} updated successfully.\")\n",
    "            break\n",
    "    \n",
    "    if not patient_found:\n",
    "        print(f\"Patient ID {patient_id} not found.\")\n"
   ]
  },
  {
   "cell_type": "code",
   "execution_count": 11,
   "id": "0aa086d0-f4b8-4a8d-821d-1bac7199043b",
   "metadata": {},
   "outputs": [],
   "source": [
    "#Look up patient record\n",
    "def lookup():\n",
    "    patient_id = input(\"Enter Patient ID: \")\n",
    "    patient_found = False\n",
    "    for record in patient_record: \n",
    "        if record [\"Patient ID\"] == patient_id:\n",
    "            print(record)\n",
    "            patient_found = True\n",
    "            break\n",
    "    if not patient_found: \n",
    "        print(\"Patient not found.\")"
   ]
  },
  {
   "cell_type": "code",
   "execution_count": 39,
   "id": "9e396325-58fa-4325-bea0-e07d469d2571",
   "metadata": {},
   "outputs": [
    {
     "name": "stdout",
     "output_type": "stream",
     "text": [
      "Welcome!\n",
      "1. Enter Patient Information\n",
      "2. Update Patient's Methadone Dose\n",
      "3. Look Up Patient Information\n",
      "4. Exit\n"
     ]
    },
    {
     "name": "stdin",
     "output_type": "stream",
     "text": [
      "Please choose an option:  2\n",
      "Enter Patient ID:  002\n",
      "Enter Date of Service (MM-DD-YYYY):  11-02-2024\n",
      "Enter Methadone Dose (mg):  80\n"
     ]
    },
    {
     "name": "stdout",
     "output_type": "stream",
     "text": [
      "Patient ID 002 updated successfully.\n",
      "Welcome!\n",
      "1. Enter Patient Information\n",
      "2. Update Patient's Methadone Dose\n",
      "3. Look Up Patient Information\n",
      "4. Exit\n"
     ]
    },
    {
     "name": "stdin",
     "output_type": "stream",
     "text": [
      "Please choose an option:  2\n",
      "Enter Patient ID:  002\n",
      "Enter Date of Service (MM-DD-YYYY):  11-03-2024\n",
      "Enter Methadone Dose (mg):  80\n"
     ]
    },
    {
     "name": "stdout",
     "output_type": "stream",
     "text": [
      "Patient ID 002 updated successfully.\n",
      "Welcome!\n",
      "1. Enter Patient Information\n",
      "2. Update Patient's Methadone Dose\n",
      "3. Look Up Patient Information\n",
      "4. Exit\n"
     ]
    },
    {
     "name": "stdin",
     "output_type": "stream",
     "text": [
      "Please choose an option:  2\n",
      "Enter Patient ID:  002\n",
      "Enter Date of Service (MM-DD-YYYY):  11-04-2024\n",
      "Enter Methadone Dose (mg):  100\n"
     ]
    },
    {
     "name": "stdout",
     "output_type": "stream",
     "text": [
      "Patient ID 002 updated successfully.\n",
      "Welcome!\n",
      "1. Enter Patient Information\n",
      "2. Update Patient's Methadone Dose\n",
      "3. Look Up Patient Information\n",
      "4. Exit\n"
     ]
    },
    {
     "name": "stdin",
     "output_type": "stream",
     "text": [
      "Please choose an option:  4\n"
     ]
    },
    {
     "name": "stdout",
     "output_type": "stream",
     "text": [
      "Goodbye.\n"
     ]
    }
   ],
   "source": [
    "#Function for the input prompt/welcome screen\n",
    "def intro_prompt():\n",
    "    while True:\n",
    "        print(\"Welcome!\")\n",
    "        print(\"1. Enter Patient Information\")\n",
    "        print(\"2. Update Patient's Methadone Dose\")\n",
    "        print(\"3. Look Up Patient Information\")\n",
    "        print(\"4. Exit\")\n",
    "\n",
    "        choice = input(\"Please choose an option: \")\n",
    "\n",
    "        if choice == \"1\":\n",
    "            enter_patient_info()\n",
    "        elif choice == \"2\":\n",
    "            update_methadone_dose()\n",
    "        elif choice == \"3\":\n",
    "            lookup()\n",
    "        elif choice == \"4\":\n",
    "            print(\"Goodbye.\")\n",
    "            break\n",
    "        else:\n",
    "            print(\"Please enter a valid option.\")\n",
    "            break\n",
    "intro_prompt()"
   ]
  },
  {
   "cell_type": "code",
   "execution_count": 43,
   "id": "985f3983-f1f9-4980-86e1-b186e863ea8d",
   "metadata": {},
   "outputs": [
    {
     "data": {
      "text/plain": [
       "[{'Patient ID': '001',\n",
       "  'Name': 'CHO, CHRISTINA',\n",
       "  'Sex': 'F',\n",
       "  'Age': '33',\n",
       "  'Race/Ethnicity': 'ASIAN',\n",
       "  'Previous Opioid Use Type': 'FENTANYL',\n",
       "  'Date of Service': ['11-01-2024', '11-02-2024', '11-03-2024', '11-04-2024'],\n",
       "  'Methadone Dose (mg)': [40, 40, 40, 40]},\n",
       " {'Patient ID': '002',\n",
       "  'Name': 'JONES, ADAM',\n",
       "  'Sex': 'M',\n",
       "  'Age': '40',\n",
       "  'Race/Ethnicity': 'WHITE',\n",
       "  'Previous Opioid Use Type': 'HEROIN',\n",
       "  'Date of Service': ['11-01-2024', '11-02-2024', '11-03-2024', '11-04-2024'],\n",
       "  'Methadone Dose (mg)': [80, 80, 80, 100]}]"
      ]
     },
     "execution_count": 43,
     "metadata": {},
     "output_type": "execute_result"
    }
   ],
   "source": [
    "patient_record"
   ]
  },
  {
   "cell_type": "code",
   "execution_count": 45,
   "id": "52bfc398-70b9-4b9b-94c1-48108708cf11",
   "metadata": {},
   "outputs": [
    {
     "data": {
      "text/html": [
       "<div>\n",
       "<style scoped>\n",
       "    .dataframe tbody tr th:only-of-type {\n",
       "        vertical-align: middle;\n",
       "    }\n",
       "\n",
       "    .dataframe tbody tr th {\n",
       "        vertical-align: top;\n",
       "    }\n",
       "\n",
       "    .dataframe thead th {\n",
       "        text-align: right;\n",
       "    }\n",
       "</style>\n",
       "<table border=\"1\" class=\"dataframe\">\n",
       "  <thead>\n",
       "    <tr style=\"text-align: right;\">\n",
       "      <th></th>\n",
       "      <th>Patient ID</th>\n",
       "      <th>Name</th>\n",
       "      <th>Sex</th>\n",
       "      <th>Age</th>\n",
       "      <th>Race/Ethnicity</th>\n",
       "      <th>Previous Opioid Use Type</th>\n",
       "      <th>Date of Service</th>\n",
       "      <th>Methadone Dose (mg)</th>\n",
       "    </tr>\n",
       "  </thead>\n",
       "  <tbody>\n",
       "    <tr>\n",
       "      <th>0</th>\n",
       "      <td>001</td>\n",
       "      <td>CHO, CHRISTINA</td>\n",
       "      <td>F</td>\n",
       "      <td>33</td>\n",
       "      <td>ASIAN</td>\n",
       "      <td>FENTANYL</td>\n",
       "      <td>[11-01-2024, 11-02-2024, 11-03-2024, 11-04-2024]</td>\n",
       "      <td>[40, 40, 40, 40]</td>\n",
       "    </tr>\n",
       "    <tr>\n",
       "      <th>1</th>\n",
       "      <td>002</td>\n",
       "      <td>JONES, ADAM</td>\n",
       "      <td>M</td>\n",
       "      <td>40</td>\n",
       "      <td>WHITE</td>\n",
       "      <td>HEROIN</td>\n",
       "      <td>[11-01-2024, 11-02-2024, 11-03-2024, 11-04-2024]</td>\n",
       "      <td>[80, 80, 80, 100]</td>\n",
       "    </tr>\n",
       "  </tbody>\n",
       "</table>\n",
       "</div>"
      ],
      "text/plain": [
       "  Patient ID            Name Sex Age Race/Ethnicity Previous Opioid Use Type  \\\n",
       "0        001  CHO, CHRISTINA   F  33          ASIAN                 FENTANYL   \n",
       "1        002     JONES, ADAM   M  40          WHITE                   HEROIN   \n",
       "\n",
       "                                    Date of Service Methadone Dose (mg)  \n",
       "0  [11-01-2024, 11-02-2024, 11-03-2024, 11-04-2024]    [40, 40, 40, 40]  \n",
       "1  [11-01-2024, 11-02-2024, 11-03-2024, 11-04-2024]   [80, 80, 80, 100]  "
      ]
     },
     "execution_count": 45,
     "metadata": {},
     "output_type": "execute_result"
    }
   ],
   "source": [
    "#Turning Patient Record List to DataFrame\n",
    "\n",
    "df = pd.DataFrame(patient_record)\n",
    "df"
   ]
  },
  {
   "cell_type": "code",
   "execution_count": null,
   "id": "20ee8ae9-f4f1-4cb5-81bb-375260717999",
   "metadata": {},
   "outputs": [],
   "source": []
  }
 ],
 "metadata": {
  "kernelspec": {
   "display_name": "Python 3 (ipykernel)",
   "language": "python",
   "name": "python3"
  },
  "language_info": {
   "codemirror_mode": {
    "name": "ipython",
    "version": 3
   },
   "file_extension": ".py",
   "mimetype": "text/x-python",
   "name": "python",
   "nbconvert_exporter": "python",
   "pygments_lexer": "ipython3",
   "version": "3.12.4"
  }
 },
 "nbformat": 4,
 "nbformat_minor": 5
}
